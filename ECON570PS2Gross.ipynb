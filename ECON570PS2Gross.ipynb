{
 "cells": [
  {
   "cell_type": "markdown",
   "id": "4de146ff-9253-49b2-a364-733280336c14",
   "metadata": {},
   "source": [
    "<h1><center>ECON 570 Problem Set 2</center></h1>\n",
    "<h2><center>Causal Inference -- A Selection of Monte Carlo Simulations</center></h2>\n",
    "<h3><center>April 15, 2022</center></h3>\n",
    "<h3><center>James Gross</center></h3>\n",
    "    "
   ]
  },
  {
   "cell_type": "code",
   "execution_count": 1,
   "id": "8c2d70f3-6c59-4eff-8200-e883fc3a1763",
   "metadata": {},
   "outputs": [],
   "source": [
    "import numpy as np\n",
    "import pandas as pd\n",
    "import random\n",
    "import networkx as nx\n",
    "from matplotlib import pyplot as plt\n",
    "import statsmodels.api as sm\n",
    "from statsmodels.tools.eval_measures import rmse\n",
    "from stargazer.stargazer import Stargazer, LineLocation"
   ]
  },
  {
   "cell_type": "markdown",
   "id": "bd3cce70-2db4-453a-a823-24171fefea26",
   "metadata": {},
   "source": [
    "#### 1. Simulate a DGP where the outcome of interest depends on a randomly assigned treatment and some observed covariates. "
   ]
  },
  {
   "cell_type": "markdown",
   "id": "34cfc2ee-e95c-4aa2-b71c-afdf2fc92997",
   "metadata": {},
   "source": [
    "In the first case, we have a variable of interest as well as some covariates which also affect the outcome. While these are not necessarily confounders, we assume they have an additive relationship. That is, they all have an effect on the outcome variable, and so if we do not control for one we may have a biased treatment effect estimate. For example, say we are investigating the relationship between smoking and healthcare spending in a cross-sectional study. While we might assume smokers spend more on healthcare than nonsmokers, it may also be the case those with more money or other preexisting conditions have higher healthcare spending. If we fail to control for these other covariates, our effect estimates will suffer from omitted variable bias.\n",
    "\n",
    "First, let's simulate a data-generating process (DGP) using the above scenario. Let variable *x* represent the percentage of smokers in a neighborhood, *b* represent average income in \\\\$1,000s, and *c* represent an index of other preexisting health conditions from 0-10, with 0 being the most healthy. Assume that all three of these correlate positively with variable *y*, healthcare spending in \\\\$1,000s. In this case, assume variables *x, b, and c* are **not** correlated."
   ]
  },
  {
   "cell_type": "code",
   "execution_count": 2,
   "id": "6447d535-155c-46b8-bb47-f502b6020303",
   "metadata": {},
   "outputs": [
    {
     "data": {
      "text/html": [
       "<div>\n",
       "<style scoped>\n",
       "    .dataframe tbody tr th:only-of-type {\n",
       "        vertical-align: middle;\n",
       "    }\n",
       "\n",
       "    .dataframe tbody tr th {\n",
       "        vertical-align: top;\n",
       "    }\n",
       "\n",
       "    .dataframe thead th {\n",
       "        text-align: right;\n",
       "    }\n",
       "</style>\n",
       "<table border=\"1\" class=\"dataframe\">\n",
       "  <thead>\n",
       "    <tr style=\"text-align: right;\">\n",
       "      <th></th>\n",
       "      <th>Smoking</th>\n",
       "      <th>Income</th>\n",
       "      <th>Preexisting Conditions</th>\n",
       "      <th>e</th>\n",
       "      <th>Healthcare Spending</th>\n",
       "    </tr>\n",
       "  </thead>\n",
       "  <tbody>\n",
       "    <tr>\n",
       "      <th>0</th>\n",
       "      <td>37.331410</td>\n",
       "      <td>81.853374</td>\n",
       "      <td>4.593302</td>\n",
       "      <td>-0.040843</td>\n",
       "      <td>2.466911</td>\n",
       "    </tr>\n",
       "    <tr>\n",
       "      <th>1</th>\n",
       "      <td>30.271323</td>\n",
       "      <td>51.595978</td>\n",
       "      <td>5.853628</td>\n",
       "      <td>0.041826</td>\n",
       "      <td>2.292351</td>\n",
       "    </tr>\n",
       "    <tr>\n",
       "      <th>2</th>\n",
       "      <td>71.352920</td>\n",
       "      <td>94.861094</td>\n",
       "      <td>1.044551</td>\n",
       "      <td>-0.203497</td>\n",
       "      <td>3.663466</td>\n",
       "    </tr>\n",
       "    <tr>\n",
       "      <th>3</th>\n",
       "      <td>9.209767</td>\n",
       "      <td>60.926921</td>\n",
       "      <td>3.673259</td>\n",
       "      <td>-0.085964</td>\n",
       "      <td>0.902777</td>\n",
       "    </tr>\n",
       "    <tr>\n",
       "      <th>4</th>\n",
       "      <td>78.934632</td>\n",
       "      <td>89.338936</td>\n",
       "      <td>2.028227</td>\n",
       "      <td>-0.084592</td>\n",
       "      <td>4.254301</td>\n",
       "    </tr>\n",
       "  </tbody>\n",
       "</table>\n",
       "</div>"
      ],
      "text/plain": [
       "     Smoking     Income  Preexisting Conditions         e  Healthcare Spending\n",
       "0  37.331410  81.853374                4.593302 -0.040843             2.466911\n",
       "1  30.271323  51.595978                5.853628  0.041826             2.292351\n",
       "2  71.352920  94.861094                1.044551 -0.203497             3.663466\n",
       "3   9.209767  60.926921                3.673259 -0.085964             0.902777\n",
       "4  78.934632  89.338936                2.028227 -0.084592             4.254301"
      ]
     },
     "execution_count": 2,
     "metadata": {},
     "output_type": "execute_result"
    }
   ],
   "source": [
    "#Generate Data in a DataFrame\n",
    "\n",
    "a = .1#constant\n",
    "b1 = .05#true effect of smoking\n",
    "b2 = .001#true effect of income\n",
    "b3 = .1#true effect of other preexisting conditions\n",
    "\n",
    "random.seed(1994)\n",
    "temp = []\n",
    "# sample size\n",
    "for observation in range(1000):\n",
    "    temp.append({'Smoking':random.triangular(low=1,high=90,mode=30),\n",
    "                 'Income':random.triangular(low=20,high=150,mode=50),\n",
    "                 'Preexisting Conditions':random.triangular(low=.1,high=8,mode=3),\n",
    "                 'e':random.gauss(mu=0,sigma=.1)})\n",
    "mc_data = pd.DataFrame(temp)\n",
    "mc_data['Healthcare Spending'] = a + b1*mc_data['Smoking'] + b2*mc_data['Income'] + b3*mc_data['Preexisting Conditions'] + mc_data['e']\n",
    "mc_data.to_csv('mc1.csv')\n",
    "mc_data.head()"
   ]
  },
  {
   "cell_type": "code",
   "execution_count": 3,
   "id": "0ae5339c-dafa-4e3d-ba6d-54e8df7f0973",
   "metadata": {},
   "outputs": [
    {
     "data": {
      "image/png": "[encoded data removed]",
      "text/plain": [
       "<Figure size 432x288 with 1 Axes>"
      ]
     },
     "metadata": {},
     "output_type": "display_data"
    }
   ],
   "source": [
    "graph = nx.DiGraph()\n",
    "graph.add_edges_from([(\"x\", \"y\"), (\"b\", \"y\"), (\"c\", \"y\")])\n",
    "nx.draw_networkx(graph, arrows=True, node_color='gray')\n",
    "plt.savefig(\"dag1.png\", format=\"PNG\")\n",
    "#https://mungingdata.com/python/dag-directed-acyclic-graph-networkx/"
   ]
  },
  {
   "cell_type": "code",
   "execution_count": 4,
   "id": "de1bfcab-2bad-4e1f-b5e3-6026496983c1",
   "metadata": {},
   "outputs": [
    {
     "data": {
      "text/html": [
       "<div>\n",
       "<style scoped>\n",
       "    .dataframe tbody tr th:only-of-type {\n",
       "        vertical-align: middle;\n",
       "    }\n",
       "\n",
       "    .dataframe tbody tr th {\n",
       "        vertical-align: top;\n",
       "    }\n",
       "\n",
       "    .dataframe thead th {\n",
       "        text-align: right;\n",
       "    }\n",
       "</style>\n",
       "<table border=\"1\" class=\"dataframe\">\n",
       "  <thead>\n",
       "    <tr style=\"text-align: right;\">\n",
       "      <th></th>\n",
       "      <th>Smoking</th>\n",
       "      <th>Income</th>\n",
       "      <th>Preexisting Conditions</th>\n",
       "      <th>Healthcare Spending</th>\n",
       "    </tr>\n",
       "  </thead>\n",
       "  <tbody>\n",
       "    <tr>\n",
       "      <th>count</th>\n",
       "      <td>1000.000000</td>\n",
       "      <td>1000.000000</td>\n",
       "      <td>1000.000000</td>\n",
       "      <td>1000.000000</td>\n",
       "    </tr>\n",
       "    <tr>\n",
       "      <th>mean</th>\n",
       "      <td>40.564956</td>\n",
       "      <td>73.914868</td>\n",
       "      <td>3.652076</td>\n",
       "      <td>2.565753</td>\n",
       "    </tr>\n",
       "    <tr>\n",
       "      <th>std</th>\n",
       "      <td>18.575620</td>\n",
       "      <td>28.076819</td>\n",
       "      <td>1.619214</td>\n",
       "      <td>0.933059</td>\n",
       "    </tr>\n",
       "    <tr>\n",
       "      <th>min</th>\n",
       "      <td>1.757121</td>\n",
       "      <td>21.833490</td>\n",
       "      <td>0.224249</td>\n",
       "      <td>0.344724</td>\n",
       "    </tr>\n",
       "    <tr>\n",
       "      <th>25%</th>\n",
       "      <td>26.533240</td>\n",
       "      <td>51.309822</td>\n",
       "      <td>2.455149</td>\n",
       "      <td>1.873143</td>\n",
       "    </tr>\n",
       "    <tr>\n",
       "      <th>50%</th>\n",
       "      <td>38.447148</td>\n",
       "      <td>70.213044</td>\n",
       "      <td>3.481768</td>\n",
       "      <td>2.464036</td>\n",
       "    </tr>\n",
       "    <tr>\n",
       "      <th>75%</th>\n",
       "      <td>53.965104</td>\n",
       "      <td>93.898391</td>\n",
       "      <td>4.798469</td>\n",
       "      <td>3.197466</td>\n",
       "    </tr>\n",
       "    <tr>\n",
       "      <th>max</th>\n",
       "      <td>88.103609</td>\n",
       "      <td>148.913240</td>\n",
       "      <td>7.759220</td>\n",
       "      <td>5.073083</td>\n",
       "    </tr>\n",
       "  </tbody>\n",
       "</table>\n",
       "</div>"
      ],
      "text/plain": [
       "           Smoking       Income  Preexisting Conditions  Healthcare Spending\n",
       "count  1000.000000  1000.000000             1000.000000          1000.000000\n",
       "mean     40.564956    73.914868                3.652076             2.565753\n",
       "std      18.575620    28.076819                1.619214             0.933059\n",
       "min       1.757121    21.833490                0.224249             0.344724\n",
       "25%      26.533240    51.309822                2.455149             1.873143\n",
       "50%      38.447148    70.213044                3.481768             2.464036\n",
       "75%      53.965104    93.898391                4.798469             3.197466\n",
       "max      88.103609   148.913240                7.759220             5.073083"
      ]
     },
     "execution_count": 4,
     "metadata": {},
     "output_type": "execute_result"
    }
   ],
   "source": [
    "mc_data[['Smoking','Income','Preexisting Conditions','Healthcare Spending']].describe()"
   ]
  },
  {
   "cell_type": "code",
   "execution_count": 5,
   "id": "7d1da2cf-9b26-4a95-af3b-2f0f8e9b09d9",
   "metadata": {},
   "outputs": [],
   "source": [
    "#build and store models\n",
    "mc_data_trimmed = mc_data.iloc[0:100]#first hundred\n",
    "y = mc_data_trimmed['Healthcare Spending']\n",
    "x = sm.add_constant(mc_data_trimmed[['Smoking']])\n",
    "result1_a_1 = sm.OLS(y, x).fit()\n",
    "rmse1 = rmse(y, result1_a_1.predict(x))\n",
    "\n",
    "y = mc_data['Healthcare Spending']\n",
    "x = sm.add_constant(mc_data[['Smoking']])\n",
    "result1_a_2 = sm.OLS(y, x).fit()\n",
    "rmse2 = rmse(y, result1_a_2.predict(x))\n",
    "\n",
    "y = mc_data_trimmed['Healthcare Spending']\n",
    "x = sm.add_constant(mc_data_trimmed[['Smoking','Income','Preexisting Conditions']])\n",
    "result1_b_1 = sm.OLS(y,x).fit()\n",
    "rmse3 = rmse(y, result1_b_1.predict(x))\n",
    "\n",
    "y = mc_data['Healthcare Spending']\n",
    "x = sm.add_constant(mc_data[['Smoking','Income','Preexisting Conditions']])\n",
    "result1_b_2 = sm.OLS(y,x).fit()\n",
    "rmse4 = rmse(y, result1_b_2.predict(x))"
   ]
  },
  {
   "cell_type": "code",
   "execution_count": 6,
   "id": "2889562a-4314-4874-a0a2-a7bb9475fb4f",
   "metadata": {},
   "outputs": [
    {
     "data": {
      "text/html": [
       "<table style=\"text-align:center\"><tr><td colspan=\"5\" style=\"border-bottom: 1px solid black\"></td></tr><tr><td style=\"text-align:left\"></td><td colspan=\"4\"><em>Dependent variable:Healthcare Spending in $1,000s</em></td></tr><tr><td style=\"text-align:left\"></td><tr><td></td><td colspan=\"1\">N = 100, no covariates</td><td colspan=\"1\">N = 1000, no covariates</td><td colspan=\"1\">N = 100, with covariates</td><td colspan=\"1\">N = 1000, with covariates</td></tr><tr><td colspan=\"5\" style=\"border-bottom: 1px solid black\"></td></tr><tr><td style=\"text-align:left\">Income</td><td></td><td></td><td>0.00076<sup>**</sup></td><td>0.00095<sup>***</sup></td></tr><tr><td style=\"text-align:left\"></td><td></td><td></td><td>(0.00037)</td><td>(0.00011)</td></tr><tr><td style=\"text-align:left\">Preexisting Conditions</td><td></td><td></td><td>0.09315<sup>***</sup></td><td>0.09815<sup>***</sup></td></tr><tr><td style=\"text-align:left\"></td><td></td><td></td><td>(0.00678)</td><td>(0.00194)</td></tr><tr><td style=\"text-align:left\">Smoking</td><td>0.04916<sup>***</sup></td><td>0.04919<sup>***</sup></td><td>0.04930<sup>***</sup></td><td>0.04965<sup>***</sup></td></tr><tr><td style=\"text-align:left\"></td><td>(0.00096)</td><td>(0.00032)</td><td>(0.00057)</td><td>(0.00017)</td></tr><tr><td style=\"text-align:left\">const</td><td>0.57530<sup>***</sup></td><td>0.57017<sup>***</sup></td><td>0.16630<sup>***</sup></td><td>0.12345<sup>***</sup></td></tr><tr><td style=\"text-align:left\"></td><td>(0.04316)</td><td>(0.01433)</td><td>(0.04443)</td><td>(0.01345)</td></tr><td colspan=\"5\" style=\"border-bottom: 1px solid black\"></td></tr><tr><td style=\"text-align: left\">Observations</td><td>100</td><td>1,000</td><td>100</td><td>1,000</td></tr><tr><td style=\"text-align: left\">R<sup>2</sup></td><td>0.96365</td><td>0.95920</td><td>0.98778</td><td>0.98877</td></tr><tr><td style=\"text-align: left\">Adjusted R<sup>2</sup></td><td>0.96328</td><td>0.95915</td><td>0.98740</td><td>0.98874</td></tr><tr><td style=\"text-align: left\">Residual Std. Error</td><td>0.17986</td><td>0.18857</td><td>0.10536</td><td>0.09903</td></tr><tr><td style=\"text-align: left\">F Statistic</td><td>2597.93244<sup>***</sup></td><td>23460.20622<sup>***</sup></td><td>2586.62968<sup>***</sup></td><td>29229.34267<sup>***</sup></td></tr><tr><td colspan=\"5\" style=\"border-bottom: 1px solid black\"></td></tr><tr><td style=\"text-align: left\">Note:</td>\n",
       " <td colspan=\"4\" style=\"text-align: right\">\n",
       "  <sup>*</sup>p&lt;0.1;\n",
       "  <sup>**</sup>p&lt;0.05;\n",
       "  <sup>***</sup>p&lt;0.01\n",
       " </td></tr></table>"
      ],
      "text/plain": [
       "<stargazer.stargazer.Stargazer at 0x18c000a3850>"
      ]
     },
     "execution_count": 6,
     "metadata": {},
     "output_type": "execute_result"
    }
   ],
   "source": [
    "#print in stargazer\n",
    "table = Stargazer([result1_a_1,result1_a_2,result1_b_1,result1_b_2])\n",
    "table.custom_columns(['N = 100, no covariates','N = 1000, no covariates','N = 100, with covariates','N = 1000, with covariates'], [1,1,1,1])\n",
    "table.show_model_numbers(False)\n",
    "table.significant_digits(5)\n",
    "table.dependent_variable = 'Healthcare Spending in $1,000s'\n",
    "table.show_degrees_of_freedom(False)\n",
    "table"
   ]
  },
  {
   "cell_type": "code",
   "execution_count": 7,
   "id": "a54a1852-0106-47a8-968c-f7b2819fb408",
   "metadata": {},
   "outputs": [
    {
     "name": "stdout",
     "output_type": "stream",
     "text": [
      "RMSE \n",
      " N = 100, no covariates:  0.17805183625505988 \n",
      " N = 1000, no covariates:  0.1883844448983667 \n",
      " N = 100, with covariates:  0.10323473968412146 \n",
      " N = 1000, with covariates:  0.09883233005410712\n",
      "Effect Sizes \n",
      " N = 100, no covariates:  0.0491602168584504 \n",
      " N = 1000, no covariates:  0.04919484706743843 \n",
      " N = 100, with covariates:  0.04929562132844985 \n",
      " N = 1000, with covariates:  0.04964663374027904\n",
      "Bias \n",
      " N = 100, no covariates:  0.0008397831415496021 \n",
      " N = 1000, no covariates:  0.000805152932561573 \n",
      " N = 100, with covariates:  0.0007043786715501543 \n",
      " N = 1000, with covariates:  0.0003533662597209608\n"
     ]
    }
   ],
   "source": [
    "#print rmse, treatment effect size, and bias\n",
    "print('RMSE','\\n','N = 100, no covariates: ',rmse1,'\\n','N = 1000, no covariates: ',rmse2,'\\n',\n",
    "      'N = 100, with covariates: ',rmse3,'\\n','N = 1000, with covariates: ',rmse4)#NOTE: is this rmse of all variables? Should calculate for only smoking??\n",
    "print('Effect Sizes','\\n','N = 100, no covariates: ',result1_a_1.params['Smoking'],'\\n','N = 1000, no covariates: ',result1_a_2.params['Smoking'],'\\n',\n",
    "      'N = 100, with covariates: ',result1_b_1.params['Smoking'],'\\n','N = 1000, with covariates: ',result1_b_2.params['Smoking'])\n",
    "print('Bias','\\n','N = 100, no covariates: ',b1-result1_a_1.params['Smoking'],'\\n','N = 1000, no covariates: ',b1-result1_a_2.params['Smoking'],'\\n',\n",
    "      'N = 100, with covariates: ',b1-result1_b_1.params['Smoking'],'\\n','N = 1000, with covariates: ',b1-result1_b_2.params['Smoking'])"
   ]
  },
  {
   "cell_type": "markdown",
   "id": "093ed092-2af9-4a89-bb59-caa853116192",
   "metadata": {},
   "source": [
    "Without controlling for covariates, we do see a slightly less accurate treatment effect. In this case, the covariates are not correlated with each other, so the univariate regression results are still fairly accurate. However, we do see an increase in performance of the models after including covariates (decreased RMSE, decreased bias)."
   ]
  },
  {
   "cell_type": "markdown",
   "id": "681f422f-db21-4e5d-95ae-e2e65ab2da58",
   "metadata": {},
   "source": [
    "#### 2. Simulate a DGP with a confounder (common cause)\n",
    "Next, consider a situation where one of the variables is a confounder. Assume a city official notes that ice cream consumption and murder rates both seem to go up in the summer. However, while there does tend to be a correlation, this is only true insofar as ice cream sale go up when the weather is hot. In this case, let variable *x* indicate ice cream sales per person, variable *b* indicate average temperature in degrees f, and variable *y* indicate the outcome, murders per 100,000 people, each taken at a county-month. If we do not control for the temperature, we will find a positive and significant association between ice cream consumption and murder rates, because we have failed to control for the confounder, temperature. Assume ice cream consumption has no effect on murder rates, and temperature has a .01 effect on murder rate and a .02 effect on ice cream sales.\n",
    "\n",
    "Similar to the last monte carlo experiment above, I simulate a DGP, produce a DAG, and finally show Monte Carlo results."
   ]
  },
  {
   "cell_type": "code",
   "execution_count": 8,
   "id": "4ee98d2c-6e01-4e0f-8387-6f81fb704cfc",
   "metadata": {},
   "outputs": [],
   "source": [
    "#Generate Data in a DataFrame\n",
    "\n",
    "a = .4#constant\n",
    "a_x = .1#constant for temperature -> ice cream sales\n",
    "b1 = 0#true effect of ice cream sales on murder rate\n",
    "b2 = .01#true effect of temperature on murder rate\n",
    "b2_x = .02#true effect of temperature on ice cream sales\n",
    "\n",
    "random.seed(1994)\n",
    "temp = []\n",
    "# sample size\n",
    "for observation in range(1000):\n",
    "    temp.append({'Average Temperature':random.triangular(low=30,high=90,mode=60),\n",
    "                 'e':random.gauss(mu=0,sigma=.01),\n",
    "                 'e_x':random.gauss(mu=0,sigma=.01)})\n",
    "mc_data = pd.DataFrame(temp)\n",
    "mc_data['Ice Cream Sales'] = a + b2_x*mc_data['Average Temperature'] + mc_data['e_x']\n",
    "mc_data['Murder Rate'] = a + b2*mc_data['Average Temperature'] + mc_data['e']\n",
    "mc_data.to_csv('mc2.csv')"
   ]
  },
  {
   "cell_type": "code",
   "execution_count": 9,
   "id": "2a53d0b7-9bea-4b5c-a30b-ce86b5114370",
   "metadata": {},
   "outputs": [
    {
     "data": {
      "image/png": "[encoded data removed]",
      "text/plain": [
       "<Figure size 432x288 with 1 Axes>"
      ]
     },
     "metadata": {},
     "output_type": "display_data"
    }
   ],
   "source": [
    "#Produce DAG\n",
    "graph = nx.DiGraph()\n",
    "graph.add_edges_from([(\"b\", \"y\"), (\"b\", \"x\")])\n",
    "nx.draw_networkx(graph, arrows=True, node_color='gray')\n",
    "plt.savefig(\"dag2.png\", format=\"PNG\")"
   ]
  },
  {
   "cell_type": "code",
   "execution_count": 10,
   "id": "4156e84a-1bb4-4709-b74a-62415350b5ab",
   "metadata": {},
   "outputs": [],
   "source": [
    "#build and store models\n",
    "mc_data_trimmed = mc_data.iloc[0:100]#first hundred\n",
    "y = mc_data_trimmed['Murder Rate']\n",
    "x = sm.add_constant(mc_data_trimmed[['Ice Cream Sales']])\n",
    "result2_a_1 = sm.OLS(y, x).fit()\n",
    "rmse1 = rmse(y, result2_a_1.predict(x))\n",
    "\n",
    "y = mc_data['Murder Rate']\n",
    "x = sm.add_constant(mc_data[['Ice Cream Sales']])\n",
    "result2_a_2 = sm.OLS(y, x).fit()\n",
    "rmse2 = rmse(y, result2_a_2.predict(x))\n",
    "\n",
    "y = mc_data_trimmed['Murder Rate']\n",
    "x = sm.add_constant(mc_data_trimmed[['Ice Cream Sales','Average Temperature']])\n",
    "result2_b_1 = sm.OLS(y,x).fit()\n",
    "rmse3 = rmse(y, result2_b_1.predict(x))\n",
    "\n",
    "y = mc_data['Murder Rate']\n",
    "x = sm.add_constant(mc_data[['Ice Cream Sales','Average Temperature']])\n",
    "result2_b_2 = sm.OLS(y,x).fit()\n",
    "rmse4 = rmse(y, result2_b_2.predict(x))"
   ]
  },
  {
   "cell_type": "code",
   "execution_count": 11,
   "id": "b8cb2278-76df-42e0-b4ef-a9524d40d146",
   "metadata": {},
   "outputs": [
    {
     "data": {
      "text/html": [
       "<table style=\"text-align:center\"><tr><td colspan=\"5\" style=\"border-bottom: 1px solid black\"></td></tr><tr><td style=\"text-align:left\"></td><td colspan=\"4\"><em>Dependent variable:Murder Rate per 100k</em></td></tr><tr><td style=\"text-align:left\"></td><tr><td></td><td colspan=\"1\">N = 100, no covariates</td><td colspan=\"1\">N = 1000, no covariates</td><td colspan=\"1\">N = 100, with covariates</td><td colspan=\"1\">N = 1000, with covariates</td></tr><tr><td colspan=\"5\" style=\"border-bottom: 1px solid black\"></td></tr><tr><td style=\"text-align:left\">Average Temperature</td><td></td><td></td><td>0.01223<sup>***</sup></td><td>0.01031<sup>***</sup></td></tr><tr><td style=\"text-align:left\"></td><td></td><td></td><td>(0.00219)</td><td>(0.00068)</td></tr><tr><td style=\"text-align:left\">Ice Cream Sales</td><td>0.49753<sup>***</sup></td><td>0.49650<sup>***</sup></td><td>-0.11203<sup></sup></td><td>-0.01753<sup></sup></td></tr><tr><td style=\"text-align:left\"></td><td>(0.00469)</td><td>(0.00153)</td><td>(0.10937)</td><td>(0.03388)</td></tr><tr><td style=\"text-align:left\">const</td><td>0.20454<sup>***</sup></td><td>0.20574<sup>***</sup></td><td>0.44633<sup>***</sup></td><td>0.40968<sup>***</sup></td></tr><tr><td style=\"text-align:left\"></td><td>(0.00760)</td><td>(0.00247)</td><td>(0.04386)</td><td>(0.01361)</td></tr><td colspan=\"5\" style=\"border-bottom: 1px solid black\"></td></tr><tr><td style=\"text-align: left\">Observations</td><td>100</td><td>1,000</td><td>100</td><td>1,000</td></tr><tr><td style=\"text-align: left\">R<sup>2</sup></td><td>0.99137</td><td>0.99066</td><td>0.99346</td><td>0.99241</td></tr><tr><td style=\"text-align: left\">Adjusted R<sup>2</sup></td><td>0.99128</td><td>0.99065</td><td>0.99333</td><td>0.99240</td></tr><tr><td style=\"text-align: left\">Residual Std. Error</td><td>0.01132</td><td>0.01147</td><td>0.00990</td><td>0.01034</td></tr><tr><td style=\"text-align: left\">F Statistic</td><td>11253.46234<sup>***</sup></td><td>105806.16473<sup>***</sup></td><td>7370.98562<sup>***</sup></td><td>65189.02622<sup>***</sup></td></tr><tr><td colspan=\"5\" style=\"border-bottom: 1px solid black\"></td></tr><tr><td style=\"text-align: left\">Note:</td>\n",
       " <td colspan=\"4\" style=\"text-align: right\">\n",
       "  <sup>*</sup>p&lt;0.1;\n",
       "  <sup>**</sup>p&lt;0.05;\n",
       "  <sup>***</sup>p&lt;0.01\n",
       " </td></tr></table>"
      ],
      "text/plain": [
       "<stargazer.stargazer.Stargazer at 0x18c00096af0>"
      ]
     },
     "execution_count": 11,
     "metadata": {},
     "output_type": "execute_result"
    }
   ],
   "source": [
    "#print in stargazer\n",
    "table = Stargazer([result2_a_1,result2_a_2,result2_b_1,result2_b_2])\n",
    "table.custom_columns(['N = 100, no covariates','N = 1000, no covariates','N = 100, with covariates','N = 1000, with covariates'], [1,1,1,1])\n",
    "table.show_model_numbers(False)\n",
    "table.significant_digits(5)\n",
    "table.dependent_variable = 'Murder Rate per 100k'\n",
    "table.show_degrees_of_freedom(False)\n",
    "table"
   ]
  },
  {
   "cell_type": "code",
   "execution_count": 12,
   "id": "98c0923d-35fb-4994-9372-9503e829e11d",
   "metadata": {},
   "outputs": [
    {
     "name": "stdout",
     "output_type": "stream",
     "text": [
      "RMSE \n",
      " N = 100, no covariates:  0.011208608644424762 \n",
      " N = 1000, no covariates:  0.011455741015197514 \n",
      " N = 100, with covariates:  0.009753231774839822 \n",
      " N = 1000, with covariates:  0.010323884521882177\n",
      "Effect Sizes \n",
      " N = 100, no covariates:  0.4975319540047104 \n",
      " N = 1000, no covariates:  0.49650443832306734 \n",
      " N = 100, with covariates:  -0.11203306446602079 \n",
      " N = 1000, with covariates:  -0.017534100931215324\n",
      "Bias \n",
      " N = 100, no covariates:  0.4975319540047104 \n",
      " N = 1000, no covariates:  0.49650443832306734 \n",
      " N = 100, with covariates:  -0.11203306446602079 \n",
      " N = 1000, with covariates:  -0.017534100931215324\n"
     ]
    }
   ],
   "source": [
    "#print rmse, treatment effect size, and bias\n",
    "print('RMSE','\\n','N = 100, no covariates: ',rmse1,'\\n','N = 1000, no covariates: ',rmse2,'\\n',\n",
    "      'N = 100, with covariates: ',rmse3,'\\n','N = 1000, with covariates: ',rmse4)\n",
    "print('Effect Sizes','\\n','N = 100, no covariates: ',result2_a_1.params['Ice Cream Sales'],'\\n','N = 1000, no covariates: ',result2_a_2.params['Ice Cream Sales'],'\\n',\n",
    "      'N = 100, with covariates: ',result2_b_1.params['Ice Cream Sales'],'\\n','N = 1000, with covariates: ',result2_b_2.params['Ice Cream Sales'])\n",
    "print('Bias','\\n','N = 100, no covariates: ',result2_a_1.params['Ice Cream Sales']-b1,'\\n','N = 1000, no covariates: ',result2_a_2.params['Ice Cream Sales']-b1,'\\n',\n",
    "      'N = 100, with covariates: ',result2_b_1.params['Ice Cream Sales']-b1,'\\n','N = 1000, with covariates: ',result2_b_2.params['Ice Cream Sales']-b1)"
   ]
  },
  {
   "cell_type": "markdown",
   "id": "9164e494-61dc-4dec-b397-27b6888e60ec",
   "metadata": {},
   "source": [
    "In this case, if we were to fail to include the confounder, we might believe the initial hypothesis that ice cream consumption does in fact affect the murder rate. However, when including temperature, we see the treatment effect of ice cream consumption become insignificant and close to zero (the true effect). In this case, RMSE does not change much when correctly specifying the model, since ice cream consumption wrongly shows a similar treatment effect as the true effect of temperature when we fail to control for temperature. However, we see the greatest improvement of bias, which drops from about .5 to about 0."
   ]
  },
  {
   "cell_type": "markdown",
   "id": "e8ac06dc-d29e-4325-9bf1-bd580d501051",
   "metadata": {},
   "source": [
    "#### 3. Simulate a DGP with selection bias into the treatment (variable in between the path from the treatment to the outcome)\n",
    "Finally, consider the following scenario: a manager at a company has been offering to cover the cost of continuing education (CE) hours, and they want to know whether the CE actually results in better performance. However, something like a simple means comparison between those who have CE hours and those who do not will not suffice, because the group who sought to continue their education may be more motivated in the first place. If so, those with more CE hours will have better performance, but we do not know if this is a result of the CE hours or because they are already more motivated. Assume we can have a variable which measures motivation. By controlling for this variable, we can isolate the effect of the CE hours on performance.\n",
    "\n",
    "Let variable *x* represent CE hours, variable *b* represent motivation on a 1-10 scale, and variable *y* represent the outcome of performance on a 1-10 scale. Assume motivation has an effect of .5 on both CE hours and performance, and CE hours has a .5 effect on performance. I similarly perform the DGP, DAG, and Monte Carlo experiment below."
   ]
  },
  {
   "cell_type": "code",
   "execution_count": 13,
   "id": "fade679e-6c55-43a4-9296-1768cd5f7ba1",
   "metadata": {},
   "outputs": [],
   "source": [
    "#Generate Data in a DataFrame\n",
    "\n",
    "a = 1#constant\n",
    "a_x = 0#constant for motivation -> CE hours\n",
    "b1 = .5#true effect of CE hours on performance\n",
    "b2 = .5#true effect of motivation on performance\n",
    "b2_x = .5#true effect of motivation on CE hours\n",
    "\n",
    "random.seed(1994)\n",
    "temp = []\n",
    "# sample size\n",
    "for observation in range(1000):\n",
    "    temp.append({'Motivation':random.triangular(low=0,high=10,mode=5),\n",
    "                 'e':random.gauss(mu=0,sigma=.1),\n",
    "                 'e_x':random.gauss(mu=0,sigma=.1)})\n",
    "mc_data = pd.DataFrame(temp)\n",
    "mc_data['CE Hours'] = a + b2_x*mc_data['Motivation'] + mc_data['e_x']\n",
    "mc_data['Performance'] = a + b1*mc_data['CE Hours'] + b2*mc_data['Motivation'] + mc_data['e']\n",
    "mc_data.to_csv('mc3.csv')"
   ]
  },
  {
   "cell_type": "code",
   "execution_count": 14,
   "id": "a6df9a8a-cdd3-440c-84c8-0a22e75c52c2",
   "metadata": {},
   "outputs": [
    {
     "data": {
      "image/png": "[encoded data removed]",
      "text/plain": [
       "<Figure size 432x288 with 1 Axes>"
      ]
     },
     "metadata": {},
     "output_type": "display_data"
    }
   ],
   "source": [
    "#Produce DAG\n",
    "graph = nx.DiGraph()\n",
    "graph.add_edges_from([(\"b\", \"x\"), (\"x\", \"y\"), (\"b\", \"y\")])\n",
    "nx.draw_networkx(graph, arrows=True, node_color='gray')\n",
    "plt.savefig(\"dag3.png\", format=\"PNG\")"
   ]
  },
  {
   "cell_type": "code",
   "execution_count": 15,
   "id": "aa7ccd6b-6272-4093-8f98-2001ffdf20ff",
   "metadata": {},
   "outputs": [],
   "source": [
    "#build and store models\n",
    "mc_data_trimmed = mc_data.iloc[0:100]#first hundred\n",
    "y = mc_data_trimmed['Performance']\n",
    "x = sm.add_constant(mc_data_trimmed[['CE Hours']])\n",
    "result3_a_1 = sm.OLS(y, x).fit()\n",
    "rmse1 = rmse(y, result3_a_1.predict(x))\n",
    "\n",
    "y = mc_data['Performance']\n",
    "x = sm.add_constant(mc_data[['CE Hours']])\n",
    "result3_a_2 = sm.OLS(y, x).fit()\n",
    "rmse2 = rmse(y, result3_a_2.predict(x))\n",
    "\n",
    "y = mc_data_trimmed['Performance']\n",
    "x = sm.add_constant(mc_data_trimmed[['CE Hours','Motivation']])\n",
    "result3_b_1 = sm.OLS(y,x).fit()\n",
    "rmse3 = rmse(y, result3_b_1.predict(x))\n",
    "\n",
    "y = mc_data['Performance']\n",
    "x = sm.add_constant(mc_data[['CE Hours','Motivation']])\n",
    "result3_b_2 = sm.OLS(y,x).fit()\n",
    "rmse4 = rmse(y, result3_b_2.predict(x))"
   ]
  },
  {
   "cell_type": "code",
   "execution_count": 16,
   "id": "2a991e22-c289-4abf-84d5-455ea1b7ab97",
   "metadata": {},
   "outputs": [
    {
     "data": {
      "text/html": [
       "<table style=\"text-align:center\"><tr><td colspan=\"5\" style=\"border-bottom: 1px solid black\"></td></tr><tr><td style=\"text-align:left\"></td><td colspan=\"4\"><em>Dependent variable:Job Performance (1-10)</em></td></tr><tr><td style=\"text-align:left\"></td><tr><td></td><td colspan=\"1\">N = 100, no covariates</td><td colspan=\"1\">N = 1000, no covariates</td><td colspan=\"1\">N = 100, with covariates</td><td colspan=\"1\">N = 1000, with covariates</td></tr><tr><td colspan=\"5\" style=\"border-bottom: 1px solid black\"></td></tr><tr><td style=\"text-align:left\">CE Hours</td><td>1.48493<sup>***</sup></td><td>1.48287<sup>***</sup></td><td>0.38797<sup>***</sup></td><td>0.48247<sup>***</sup></td></tr><tr><td style=\"text-align:left\"></td><td>(0.01392)</td><td>(0.00451)</td><td>(0.10937)</td><td>(0.03388)</td></tr><tr><td style=\"text-align:left\">Motivation</td><td></td><td></td><td>0.55554<sup>***</sup></td><td>0.50626<sup>***</sup></td></tr><tr><td style=\"text-align:left\"></td><td></td><td></td><td>(0.05516)</td><td>(0.01706)</td></tr><tr><td style=\"text-align:left\">const</td><td>0.05516<sup></sup></td><td>0.06125<sup>***</sup></td><td>1.12484<sup>***</sup></td><td>1.03165<sup>***</sup></td></tr><tr><td style=\"text-align:left\"></td><td>(0.05096)</td><td>(0.01635)</td><td>(0.11209)</td><td>(0.03481)</td></tr><td colspan=\"5\" style=\"border-bottom: 1px solid black\"></td></tr><tr><td style=\"text-align: left\">Observations</td><td>100</td><td>1,000</td><td>100</td><td>1,000</td></tr><tr><td style=\"text-align: left\">R<sup>2</sup></td><td>0.99146</td><td>0.99087</td><td>0.99582</td><td>0.99515</td></tr><tr><td style=\"text-align: left\">Adjusted R<sup>2</sup></td><td>0.99137</td><td>0.99086</td><td>0.99574</td><td>0.99514</td></tr><tr><td style=\"text-align: left\">Residual Std. Error</td><td>0.14091</td><td>0.14180</td><td>0.09903</td><td>0.10339</td></tr><tr><td style=\"text-align: left\">F Statistic</td><td>11374.08877<sup>***</sup></td><td>108314.01488<sup>***</sup></td><td>11564.95471<sup>***</sup></td><td>102308.86177<sup>***</sup></td></tr><tr><td colspan=\"5\" style=\"border-bottom: 1px solid black\"></td></tr><tr><td style=\"text-align: left\">Note:</td>\n",
       " <td colspan=\"4\" style=\"text-align: right\">\n",
       "  <sup>*</sup>p&lt;0.1;\n",
       "  <sup>**</sup>p&lt;0.05;\n",
       "  <sup>***</sup>p&lt;0.01\n",
       " </td></tr></table>"
      ],
      "text/plain": [
       "<stargazer.stargazer.Stargazer at 0x18c00e5fcd0>"
      ]
     },
     "execution_count": 16,
     "metadata": {},
     "output_type": "execute_result"
    }
   ],
   "source": [
    "#print in stargazer\n",
    "table = Stargazer([result3_a_1,result3_a_2,result3_b_1,result3_b_2])\n",
    "table.custom_columns(['N = 100, no covariates','N = 1000, no covariates','N = 100, with covariates','N = 1000, with covariates'], [1,1,1,1])\n",
    "table.show_model_numbers(False)\n",
    "table.significant_digits(5)\n",
    "table.dependent_variable = 'Job Performance (1-10)'\n",
    "table.show_degrees_of_freedom(False)\n",
    "table"
   ]
  },
  {
   "cell_type": "code",
   "execution_count": 17,
   "id": "05629b5a-8c16-4088-966e-1d89be189ec5",
   "metadata": {},
   "outputs": [
    {
     "name": "stdout",
     "output_type": "stream",
     "text": [
      "RMSE \n",
      " N = 100, no covariates:  0.13949228206833164 \n",
      " N = 1000, no covariates:  0.14166220093202855 \n",
      " N = 100, with covariates:  0.09753231774839834 \n",
      " N = 1000, with covariates:  0.10323884521882179\n",
      "Effect Sizes \n",
      " N = 100, no covariates:  1.4849306122256887 \n",
      " N = 1000, no covariates:  1.482868613838218 \n",
      " N = 100, with covariates:  0.38796693553397654 \n",
      " N = 1000, with covariates:  0.48246589906879034\n",
      "Bias \n",
      " N = 100, no covariates:  0.9849306122256887 \n",
      " N = 1000, no covariates:  0.9828686138382181 \n",
      " N = 100, with covariates:  -0.11203306446602346 \n",
      " N = 1000, with covariates:  -0.017534100931209662\n"
     ]
    }
   ],
   "source": [
    "#print rmse, treatment effect size, and bias\n",
    "print('RMSE','\\n','N = 100, no covariates: ',rmse1,'\\n','N = 1000, no covariates: ',rmse2,'\\n',\n",
    "      'N = 100, with covariates: ',rmse3,'\\n','N = 1000, with covariates: ',rmse4)\n",
    "print('Effect Sizes','\\n','N = 100, no covariates: ',result3_a_1.params['CE Hours'],'\\n','N = 1000, no covariates: ',result3_a_2.params['CE Hours'],'\\n',\n",
    "      'N = 100, with covariates: ',result3_b_1.params['CE Hours'],'\\n','N = 1000, with covariates: ',result3_b_2.params['CE Hours'])\n",
    "print('Bias','\\n','N = 100, no covariates: ',result3_a_1.params['CE Hours']-b1,'\\n','N = 1000, no covariates: ',result3_a_2.params['CE Hours']-b1,'\\n',\n",
    "      'N = 100, with covariates: ',result3_b_1.params['CE Hours']-b1,'\\n','N = 1000, with covariates: ',result3_b_2.params['CE Hours']-b1)"
   ]
  },
  {
   "cell_type": "markdown",
   "id": "de6b363d-632b-4017-8d69-fdd647ce4943",
   "metadata": {},
   "source": [
    "Finally, we can see above that if we did not control for treatment selection bias, we might believe that the effect of CE hours on performance is 3 times as big as it really is. When including the motivation variable, we see a drop in bias of about 1 to almost 0, since both coefficients are near the true values when correctly specifying. We also see an improvement in overall model performance, as RMSE decreases as well."
   ]
  }
 ],
 "metadata": {
  "kernelspec": {
   "display_name": "Python 3 (ipykernel)",
   "language": "python",
   "name": "python3"
  },
  "language_info": {
   "codemirror_mode": {
    "name": "ipython",
    "version": 3
   },
   "file_extension": ".py",
   "mimetype": "text/x-python",
   "name": "python",
   "nbconvert_exporter": "python",
   "pygments_lexer": "ipython3",
   "version": "3.9.5"
  }
 },
 "nbformat": 4,
 "nbformat_minor": 5
}
